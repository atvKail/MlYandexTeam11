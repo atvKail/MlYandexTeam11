{
  "cells": [
    {
      "cell_type": "code",
      "execution_count": 2,
      "metadata": {
        "id": "E3_njGrZ7tJH"
      },
      "outputs": [],
      "source": [
        " !pip install -q kaggle"
      ]
    },
    {
      "cell_type": "code",
      "execution_count": 3,
      "metadata": {
        "colab": {
          "base_uri": "https://localhost:8080/",
          "height": 92
        },
        "id": "-KzECthg7wLQ",
        "outputId": "b1d5133c-949e-40f1-9a86-f45677b59924"
      },
      "outputs": [
        {
          "output_type": "display_data",
          "data": {
            "text/plain": [
              "<IPython.core.display.HTML object>"
            ],
            "text/html": [
              "\n",
              "     <input type=\"file\" id=\"files-846bd9e3-cd9b-49ea-9ea0-2b89ba1d864f\" name=\"files[]\" multiple disabled\n",
              "        style=\"border:none\" />\n",
              "     <output id=\"result-846bd9e3-cd9b-49ea-9ea0-2b89ba1d864f\">\n",
              "      Upload widget is only available when the cell has been executed in the\n",
              "      current browser session. Please rerun this cell to enable.\n",
              "      </output>\n",
              "      <script>// Copyright 2017 Google LLC\n",
              "//\n",
              "// Licensed under the Apache License, Version 2.0 (the \"License\");\n",
              "// you may not use this file except in compliance with the License.\n",
              "// You may obtain a copy of the License at\n",
              "//\n",
              "//      http://www.apache.org/licenses/LICENSE-2.0\n",
              "//\n",
              "// Unless required by applicable law or agreed to in writing, software\n",
              "// distributed under the License is distributed on an \"AS IS\" BASIS,\n",
              "// WITHOUT WARRANTIES OR CONDITIONS OF ANY KIND, either express or implied.\n",
              "// See the License for the specific language governing permissions and\n",
              "// limitations under the License.\n",
              "\n",
              "/**\n",
              " * @fileoverview Helpers for google.colab Python module.\n",
              " */\n",
              "(function(scope) {\n",
              "function span(text, styleAttributes = {}) {\n",
              "  const element = document.createElement('span');\n",
              "  element.textContent = text;\n",
              "  for (const key of Object.keys(styleAttributes)) {\n",
              "    element.style[key] = styleAttributes[key];\n",
              "  }\n",
              "  return element;\n",
              "}\n",
              "\n",
              "// Max number of bytes which will be uploaded at a time.\n",
              "const MAX_PAYLOAD_SIZE = 100 * 1024;\n",
              "\n",
              "function _uploadFiles(inputId, outputId) {\n",
              "  const steps = uploadFilesStep(inputId, outputId);\n",
              "  const outputElement = document.getElementById(outputId);\n",
              "  // Cache steps on the outputElement to make it available for the next call\n",
              "  // to uploadFilesContinue from Python.\n",
              "  outputElement.steps = steps;\n",
              "\n",
              "  return _uploadFilesContinue(outputId);\n",
              "}\n",
              "\n",
              "// This is roughly an async generator (not supported in the browser yet),\n",
              "// where there are multiple asynchronous steps and the Python side is going\n",
              "// to poll for completion of each step.\n",
              "// This uses a Promise to block the python side on completion of each step,\n",
              "// then passes the result of the previous step as the input to the next step.\n",
              "function _uploadFilesContinue(outputId) {\n",
              "  const outputElement = document.getElementById(outputId);\n",
              "  const steps = outputElement.steps;\n",
              "\n",
              "  const next = steps.next(outputElement.lastPromiseValue);\n",
              "  return Promise.resolve(next.value.promise).then((value) => {\n",
              "    // Cache the last promise value to make it available to the next\n",
              "    // step of the generator.\n",
              "    outputElement.lastPromiseValue = value;\n",
              "    return next.value.response;\n",
              "  });\n",
              "}\n",
              "\n",
              "/**\n",
              " * Generator function which is called between each async step of the upload\n",
              " * process.\n",
              " * @param {string} inputId Element ID of the input file picker element.\n",
              " * @param {string} outputId Element ID of the output display.\n",
              " * @return {!Iterable<!Object>} Iterable of next steps.\n",
              " */\n",
              "function* uploadFilesStep(inputId, outputId) {\n",
              "  const inputElement = document.getElementById(inputId);\n",
              "  inputElement.disabled = false;\n",
              "\n",
              "  const outputElement = document.getElementById(outputId);\n",
              "  outputElement.innerHTML = '';\n",
              "\n",
              "  const pickedPromise = new Promise((resolve) => {\n",
              "    inputElement.addEventListener('change', (e) => {\n",
              "      resolve(e.target.files);\n",
              "    });\n",
              "  });\n",
              "\n",
              "  const cancel = document.createElement('button');\n",
              "  inputElement.parentElement.appendChild(cancel);\n",
              "  cancel.textContent = 'Cancel upload';\n",
              "  const cancelPromise = new Promise((resolve) => {\n",
              "    cancel.onclick = () => {\n",
              "      resolve(null);\n",
              "    };\n",
              "  });\n",
              "\n",
              "  // Wait for the user to pick the files.\n",
              "  const files = yield {\n",
              "    promise: Promise.race([pickedPromise, cancelPromise]),\n",
              "    response: {\n",
              "      action: 'starting',\n",
              "    }\n",
              "  };\n",
              "\n",
              "  cancel.remove();\n",
              "\n",
              "  // Disable the input element since further picks are not allowed.\n",
              "  inputElement.disabled = true;\n",
              "\n",
              "  if (!files) {\n",
              "    return {\n",
              "      response: {\n",
              "        action: 'complete',\n",
              "      }\n",
              "    };\n",
              "  }\n",
              "\n",
              "  for (const file of files) {\n",
              "    const li = document.createElement('li');\n",
              "    li.append(span(file.name, {fontWeight: 'bold'}));\n",
              "    li.append(span(\n",
              "        `(${file.type || 'n/a'}) - ${file.size} bytes, ` +\n",
              "        `last modified: ${\n",
              "            file.lastModifiedDate ? file.lastModifiedDate.toLocaleDateString() :\n",
              "                                    'n/a'} - `));\n",
              "    const percent = span('0% done');\n",
              "    li.appendChild(percent);\n",
              "\n",
              "    outputElement.appendChild(li);\n",
              "\n",
              "    const fileDataPromise = new Promise((resolve) => {\n",
              "      const reader = new FileReader();\n",
              "      reader.onload = (e) => {\n",
              "        resolve(e.target.result);\n",
              "      };\n",
              "      reader.readAsArrayBuffer(file);\n",
              "    });\n",
              "    // Wait for the data to be ready.\n",
              "    let fileData = yield {\n",
              "      promise: fileDataPromise,\n",
              "      response: {\n",
              "        action: 'continue',\n",
              "      }\n",
              "    };\n",
              "\n",
              "    // Use a chunked sending to avoid message size limits. See b/62115660.\n",
              "    let position = 0;\n",
              "    do {\n",
              "      const length = Math.min(fileData.byteLength - position, MAX_PAYLOAD_SIZE);\n",
              "      const chunk = new Uint8Array(fileData, position, length);\n",
              "      position += length;\n",
              "\n",
              "      const base64 = btoa(String.fromCharCode.apply(null, chunk));\n",
              "      yield {\n",
              "        response: {\n",
              "          action: 'append',\n",
              "          file: file.name,\n",
              "          data: base64,\n",
              "        },\n",
              "      };\n",
              "\n",
              "      let percentDone = fileData.byteLength === 0 ?\n",
              "          100 :\n",
              "          Math.round((position / fileData.byteLength) * 100);\n",
              "      percent.textContent = `${percentDone}% done`;\n",
              "\n",
              "    } while (position < fileData.byteLength);\n",
              "  }\n",
              "\n",
              "  // All done.\n",
              "  yield {\n",
              "    response: {\n",
              "      action: 'complete',\n",
              "    }\n",
              "  };\n",
              "}\n",
              "\n",
              "scope.google = scope.google || {};\n",
              "scope.google.colab = scope.google.colab || {};\n",
              "scope.google.colab._files = {\n",
              "  _uploadFiles,\n",
              "  _uploadFilesContinue,\n",
              "};\n",
              "})(self);\n",
              "</script> "
            ]
          },
          "metadata": {}
        },
        {
          "output_type": "stream",
          "name": "stdout",
          "text": [
            "Saving kaggle.json to kaggle.json\n"
          ]
        },
        {
          "output_type": "execute_result",
          "data": {
            "text/plain": [
              "{'kaggle.json': b'{\"username\":\"l4e1owek\",\"key\":\"a31d8529a9ceb19f66a1f35ce6044f83\"}'}"
            ]
          },
          "metadata": {},
          "execution_count": 3
        }
      ],
      "source": [
        "from google.colab import files\n",
        "files.upload()"
      ]
    },
    {
      "cell_type": "code",
      "execution_count": 4,
      "metadata": {
        "id": "9Q-6-hjJ7ynv"
      },
      "outputs": [],
      "source": [
        "! mkdir ~/.kaggle\n",
        "\n",
        "! cp kaggle.json ~/.kaggle/"
      ]
    },
    {
      "cell_type": "code",
      "execution_count": 5,
      "metadata": {
        "id": "a-Pzskli72PG"
      },
      "outputs": [],
      "source": [
        "! chmod 600 ~/.kaggle/kaggle.json"
      ]
    },
    {
      "cell_type": "code",
      "execution_count": 6,
      "metadata": {
        "colab": {
          "base_uri": "https://localhost:8080/"
        },
        "id": "xH7yUolI73yH",
        "outputId": "175c1903-15e0-4431-f2a7-52d3360a2e75"
      },
      "outputs": [
        {
          "output_type": "stream",
          "name": "stdout",
          "text": [
            "Downloading ml-intensive-yandex-academy-spring-2024.zip to data\n",
            " 99% 982M/988M [00:13<00:00, 75.6MB/s]\n",
            "100% 988M/988M [00:13<00:00, 76.1MB/s]\n"
          ]
        }
      ],
      "source": [
        "! kaggle competitions download -c ml-intensive-yandex-academy-spring-2024 -p data"
      ]
    },
    {
      "cell_type": "code",
      "execution_count": 7,
      "metadata": {
        "colab": {
          "base_uri": "https://localhost:8080/"
        },
        "id": "HUsvYQ738CEg",
        "outputId": "d032d473-d8fc-4182-a54b-24ae1f3585e6"
      },
      "outputs": [
        {
          "output_type": "stream",
          "name": "stdout",
          "text": [
            "Архив успешно разархивирован.\n"
          ]
        }
      ],
      "source": [
        "import zipfile\n",
        "import os\n",
        "\n",
        "# Путь к вашему архиву\n",
        "zip_file_path = '/content/data/ml-intensive-yandex-academy-spring-2024.zip'\n",
        "\n",
        "# Папка, куда вы хотите извлечь содержимое архива\n",
        "extract_folder = '/content/data'\n",
        "\n",
        "# Создаем папку для извлеченных файлов, если она еще не существует\n",
        "os.makedirs(extract_folder, exist_ok=True)\n",
        "\n",
        "# Разархивируем архив\n",
        "with zipfile.ZipFile(zip_file_path, 'r') as zip_ref:\n",
        "    zip_ref.extractall(extract_folder)\n",
        "\n",
        "print(\"Архив успешно разархивирован.\")"
      ]
    },
    {
      "cell_type": "code",
      "execution_count": 8,
      "metadata": {
        "id": "qLtZn14y8Gc7"
      },
      "outputs": [],
      "source": [
        "from torch.utils.data import Dataset\n",
        "import glob\n",
        "from PIL import Image\n",
        "import random as rnd\n",
        "import pandas as pd\n",
        "import numpy as np\n",
        "import pickle\n",
        "import cv2\n",
        "import os\n",
        "import torch\n",
        "import torch.nn as nn\n",
        "import torch.optim as optim\n",
        "from torch.utils.data import DataLoader\n",
        "from torchvision import transforms, datasets\n",
        "from matplotlib import pyplot as plt\n",
        "import os\n",
        "from tqdm import tqdm"
      ]
    },
    {
      "cell_type": "code",
      "execution_count": null,
      "metadata": {
        "id": "pexMPtkYk9M0"
      },
      "outputs": [],
      "source": [
        "# Взял у Максима\n",
        "\n",
        "train_images_folder = \"data/data/train_images\"\n",
        "image_paths = [os.path.join(train_images_folder, filename) for filename in os.listdir(train_images_folder)]\n",
        "sum_pixels = np.zeros(3)\n",
        "sum_squared_pixels = np.zeros(3)\n",
        "count = 0\n",
        "\n",
        "for image_path in tqdm(image_paths, desc=\"Нахождение значения Normalize\", unit=\" image\"):\n",
        "    img = Image.open(image_path).convert(\"RGB\")\n",
        "    img_array = np.array(img) / 255\n",
        "    sum_pixels += np.sum(img_array, axis=(0, 1))\n",
        "    sum_squared_pixels += np.sum(img_array ** 2, axis=(0, 1))\n",
        "    count += img_array.shape[0] * img_array.shape[1]\n",
        "\n",
        "mean = (sum_pixels / count)[0]\n",
        "std = np.sqrt((sum_squared_pixels / count) - (mean ** 2))[0]\n",
        "print(\"Mean:\", mean)\n",
        "print(\"Std:\", std)"
      ]
    },
    {
      "cell_type": "code",
      "execution_count": 10,
      "metadata": {
        "id": "4Lwvs1Wz8erM"
      },
      "outputs": [],
      "source": [
        "mean = [0.5139462690121602]\n",
        "std = [0.24807255906862483]\n"
      ]
    },
    {
      "cell_type": "code",
      "execution_count": 11,
      "metadata": {
        "id": "fEaUCFh88Kd-"
      },
      "outputs": [],
      "source": [
        "class CustomDataset(Dataset):\n",
        "    def __init__(\n",
        "        self,\n",
        "        csv_file,\n",
        "        root_dir,\n",
        "        save_file=None,\n",
        "        transform=None,\n",
        "        mask_dir=None,\n",
        "        have_mask=False,\n",
        "    ):\n",
        "        self.data_frame = pd.read_csv(csv_file)\n",
        "        self.root_dir = root_dir\n",
        "        self.save_file = save_file\n",
        "        self.transform = transform\n",
        "        self.have_mask = have_mask\n",
        "        self.mask_dir = mask_dir\n",
        "\n",
        "        if not save_file:\n",
        "            return\n",
        "\n",
        "        if os.path.exists(self.save_file):\n",
        "            with open(self.save_file, \"rb\") as f:\n",
        "                self.data = pickle.load(f)\n",
        "        else:\n",
        "            self.data = []\n",
        "            for idx in range(len(self.data_frame)):\n",
        "                img_name = os.path.join(\n",
        "                    self.root_dir, f\"img_{self.data_frame.iloc[idx, 0]}.png\"\n",
        "                )\n",
        "                image = Image.open(img_name)\n",
        "                target = self.data_frame.iloc[idx, 1]\n",
        "\n",
        "                if self.have_mask:\n",
        "                    mask_name = os.path.join(\n",
        "                        self.mask_dir, f\"img_{self.data_frame.iloc[idx, 0]}.png\"\n",
        "                    )\n",
        "                    mask = Image.open(mask_name)\n",
        "                    image = Image.fromarray(\n",
        "                        cv2.bitwise_and(\n",
        "                            np.array(image), np.array(image), mask=np.array(mask)\n",
        "                        )\n",
        "                    )\n",
        "\n",
        "                if self.transform:\n",
        "                    image = self.transform(image)\n",
        "\n",
        "                self.data.append((image, target))\n",
        "\n",
        "            # Сохраняем данные в файл\n",
        "            with open(self.save_file, \"wb\") as f:\n",
        "                pickle.dump(self.data, f)\n",
        "\n",
        "    def __len__(self):\n",
        "        if self.save_file:\n",
        "            return len(self.data)\n",
        "        return len(self.data_frame)\n",
        "\n",
        "    def __getitem__(self, idx):\n",
        "        if self.save_file:\n",
        "            return self.data[idx]\n",
        "\n",
        "        img_name = os.path.join(self.root_dir, f\"img_{self.data_frame.iloc[idx, 0]}.png\")\n",
        "        image = Image.open(img_name)\n",
        "        target = self.data_frame.iloc[idx, 1]\n",
        "\n",
        "        if self.have_mask:\n",
        "            mask_name = os.path.join(self.mask_dir, f\"img_{self.data_frame.iloc[idx, 0]}.png\")\n",
        "            mask = Image.open(mask_name)\n",
        "            image = Image.fromarray(cv2.bitwise_and(np.array(image), np.array(image), mask=np.array(mask)))\n",
        "\n",
        "        if self.transform:\n",
        "            image = self.transform(image)\n",
        "\n",
        "        return image, target\n",
        "\n",
        "    def get_balance_data(self, augmentation_transform=transforms.Compose([\n",
        "        transforms.RandomHorizontalFlip(),\n",
        "        transforms.RandomRotation(degrees=45)\n",
        "    ])):\n",
        "        class_count = {}\n",
        "        balance_data = []\n",
        "\n",
        "        for i in range(len(self)):\n",
        "            if self[i][1] not in class_count.keys():\n",
        "                class_count[self[i][1]] = [1, [i]]\n",
        "            else:\n",
        "                class_count[self[i][1]] = [class_count[self[i][1]][0] + 1, class_count[self[i][1]][1] + [i]]\n",
        "                balance_data.append(self[i])\n",
        "\n",
        "        mx_count = max(class_count.items(), key=lambda x:x[1][0])\n",
        "\n",
        "        for item in class_count.items():\n",
        "            for _ in range(mx_count[1][0] - item[1][0]):\n",
        "                x = rnd.choice(item[1][1])\n",
        "                image = self[x][0]\n",
        "                balance_data.append((augmentation_transform(image), self[x][1]))\n",
        "        return balance_data\n",
        "\n",
        "\n",
        "class TestDataClassifer:\n",
        "    def __init__(self, model, image_folder, transform=None):\n",
        "        self.device = torch.device(\"cuda\" if torch.cuda.is_available() else \"cpu\")\n",
        "        self.model = model\n",
        "        self.model.eval()\n",
        "        self.image_folder = image_folder\n",
        "        self.transform = transform\n",
        "\n",
        "    def load_images_and_predict(self):\n",
        "        predictions = []\n",
        "        image_paths = sorted([os.path.join(self.image_folder, file) for file in os.listdir(self.image_folder) if file.endswith(('png', 'jpg', 'jpeg'))])\n",
        "\n",
        "        for image_path in image_paths:\n",
        "            image = Image.open(image_path).convert('RGB')\n",
        "\n",
        "            image = self.transform(image)\n",
        "            image = image.unsqueeze(0).to(self.device)\n",
        "\n",
        "            with torch.no_grad():\n",
        "                output = self.model(image)\n",
        "                _, predicted = torch.max(output, 1)\n",
        "                predictions.append(predicted.item())\n",
        "\n",
        "        return predictions\n",
        "\n",
        "    def save_predictions_to_csv(self, predictions):\n",
        "        data = {\"id\": list(range(len(predictions))), \"target_feature\": predictions}\n",
        "        df = pd.DataFrame(data)\n",
        "        df.to_csv(\"predictions.csv\", index=False)"
      ]
    },
    {
      "cell_type": "code",
      "execution_count": 12,
      "metadata": {
        "id": "y22RzZUK8NKH"
      },
      "outputs": [],
      "source": [
        "# Подготовка данных\n",
        "transform = transforms.Compose([\n",
        "    transforms.Resize((224, 224)),\n",
        "    transforms.ToTensor(),\n",
        "    transforms.Grayscale(num_output_channels=1),\n",
        "    transforms.Normalize(mean, std)\n",
        "])\n",
        "\n",
        "csv_file = os.getcwd() + '/data/data/train_answers.csv'\n",
        "root_dir = os.getcwd() + '/data/data/train_images'\n",
        "mask_dir = os.getcwd() + '/data/data/train_lung_masks'\n",
        "save_file = os.getcwd() + '/data/data/data.pkl'\n",
        "test_dir = os.getcwd() + '/data/data/test_images'\n",
        "\n",
        "train_dataset = CustomDataset(csv_file=csv_file, root_dir=root_dir, have_mask=False, mask_dir=mask_dir, transform=transform)\n",
        "\n",
        "train_loader = DataLoader(train_dataset, batch_size=32, shuffle=True)"
      ]
    },
    {
      "cell_type": "code",
      "execution_count": 13,
      "metadata": {
        "id": "6yHHg0138PXP"
      },
      "outputs": [],
      "source": [
        "import torch\n",
        "import torch.nn as nn\n",
        "import torch.optim as optim\n",
        "from torch.utils.data import DataLoader\n",
        "from torchvision import transforms\n",
        "from sklearn.metrics import f1_score\n",
        "from tqdm import tqdm\n",
        "\n",
        "class AdvancedChestCNN(nn.Module):\n",
        "    def __init__(self, num_classes):\n",
        "        super(AdvancedChestCNN, self).__init__()\n",
        "        self.conv1 = nn.Conv2d(1, 32, kernel_size=3, padding=1)\n",
        "        self.bn1 = nn.BatchNorm2d(32)\n",
        "        self.conv2 = nn.Conv2d(32, 64, kernel_size=3, padding=1)\n",
        "        self.bn2 = nn.BatchNorm2d(64)\n",
        "        self.conv3 = nn.Conv2d(64, 128, kernel_size=3, padding=1)\n",
        "        self.bn3 = nn.BatchNorm2d(128)\n",
        "        self.conv4 = nn.Conv2d(128, 256, kernel_size=3, padding=1)\n",
        "        self.bn4 = nn.BatchNorm2d(256)\n",
        "        self.pool = nn.MaxPool2d(2, 2)\n",
        "        self.fc1 = nn.Linear(256 * 14 * 14, 512)\n",
        "        self.fc2 = nn.Linear(512, num_classes)\n",
        "        self.dropout = nn.Dropout(0.5)\n",
        "\n",
        "    def forward(self, x):\n",
        "        x = self.pool(torch.relu(self.bn1(self.conv1(x))))\n",
        "        x = self.pool(torch.relu(self.bn2(self.conv2(x))))\n",
        "        x = self.pool(torch.relu(self.bn3(self.conv3(x))))\n",
        "        x = self.pool(torch.relu(self.bn4(self.conv4(x))))\n",
        "        x = x.view(-1, 256 * 14 * 14)\n",
        "        x = self.dropout(x)\n",
        "        x = torch.relu(self.fc1(x))\n",
        "        x = self.fc2(x)\n",
        "        return x\n"
      ]
    },
    {
      "cell_type": "code",
      "execution_count": 14,
      "metadata": {
        "colab": {
          "base_uri": "https://localhost:8080/"
        },
        "id": "AEoCfOwy8Ru3",
        "outputId": "58184301-8000-42ec-ac6e-d2ec2c9ef2a8"
      },
      "outputs": [
        {
          "output_type": "execute_result",
          "data": {
            "text/plain": [
              "AdvancedChestCNN(\n",
              "  (conv1): Conv2d(1, 32, kernel_size=(3, 3), stride=(1, 1), padding=(1, 1))\n",
              "  (bn1): BatchNorm2d(32, eps=1e-05, momentum=0.1, affine=True, track_running_stats=True)\n",
              "  (conv2): Conv2d(32, 64, kernel_size=(3, 3), stride=(1, 1), padding=(1, 1))\n",
              "  (bn2): BatchNorm2d(64, eps=1e-05, momentum=0.1, affine=True, track_running_stats=True)\n",
              "  (conv3): Conv2d(64, 128, kernel_size=(3, 3), stride=(1, 1), padding=(1, 1))\n",
              "  (bn3): BatchNorm2d(128, eps=1e-05, momentum=0.1, affine=True, track_running_stats=True)\n",
              "  (conv4): Conv2d(128, 256, kernel_size=(3, 3), stride=(1, 1), padding=(1, 1))\n",
              "  (bn4): BatchNorm2d(256, eps=1e-05, momentum=0.1, affine=True, track_running_stats=True)\n",
              "  (pool): MaxPool2d(kernel_size=2, stride=2, padding=0, dilation=1, ceil_mode=False)\n",
              "  (fc1): Linear(in_features=50176, out_features=512, bias=True)\n",
              "  (fc2): Linear(in_features=512, out_features=3, bias=True)\n",
              "  (dropout): Dropout(p=0.5, inplace=False)\n",
              ")"
            ]
          },
          "metadata": {},
          "execution_count": 14
        }
      ],
      "source": [
        "# Инициализация модели, функции потерь и оптимизатора\n",
        "model = AdvancedChestCNN(num_classes=3)\n",
        "criterion = nn.CrossEntropyLoss()\n",
        "optimizer = optim.Adam(model.parameters(), lr=0.001)\n",
        "\n",
        "device = torch.device(\"cuda\" if torch.cuda.is_available() else \"cpu\")\n",
        "model.to(device)"
      ]
    },
    {
      "cell_type": "code",
      "execution_count": 15,
      "metadata": {
        "id": "NcLzag2G8UbQ"
      },
      "outputs": [],
      "source": [
        "import torch\n",
        "from sklearn.metrics import f1_score\n",
        "from tqdm import tqdm\n",
        "\n",
        "def train_model(model, train_loader, criterion, optimizer, device):\n",
        "    model.train()\n",
        "    running_loss = 0.0\n",
        "    for images, labels in tqdm(train_loader):\n",
        "        images, labels = images.to(device), labels.to(device)\n",
        "        optimizer.zero_grad()\n",
        "        outputs = model(images)\n",
        "        loss = criterion(outputs, labels)\n",
        "        loss.backward()\n",
        "        optimizer.step()\n",
        "        running_loss += loss.item() * images.size(0)\n",
        "\n",
        "    epoch_loss = running_loss / len(train_loader.dataset)\n",
        "    return epoch_loss\n"
      ]
    },
    {
      "cell_type": "code",
      "execution_count": 16,
      "metadata": {
        "colab": {
          "base_uri": "https://localhost:8080/"
        },
        "id": "UwIBkY7n8XUw",
        "outputId": "d4640ee8-dc9f-4e8b-87c7-8414c2556234"
      },
      "outputs": [
        {
          "output_type": "stream",
          "name": "stdout",
          "text": [
            "Mounted at /content/drive\n"
          ]
        }
      ],
      "source": [
        "from google.colab import drive\n",
        "drive.mount('/content/drive')"
      ]
    },
    {
      "cell_type": "code",
      "execution_count": 17,
      "metadata": {
        "colab": {
          "base_uri": "https://localhost:8080/"
        },
        "id": "cgYBjvW48cR_",
        "outputId": "aa42c0d5-4a24-46a0-8459-d5dba7b29d24"
      },
      "outputs": [
        {
          "output_type": "stream",
          "name": "stdout",
          "text": [
            "/content/drive/MyDrive/checkpoint_Advance_model_epoch_50.pth\n"
          ]
        }
      ],
      "source": [
        "losses = []\n",
        "\n",
        "checkpoint_dir = '/content/drive/MyDrive/'\n",
        "\n",
        "# Load checkpoint if it exists\n",
        "try:\n",
        "  checkpoint_path = max(glob.glob(os.path.join(checkpoint_dir, 'checkpoint_Advance_model_epoch_*.pth')), key=os.path.getctime)\n",
        "except:\n",
        "  checkpoint_path = ''\n",
        "print(checkpoint_path)\n",
        "\n",
        "if os.path.exists(checkpoint_path):\n",
        "    checkpoint = torch.load(checkpoint_path, map_location = device)\n",
        "    model.load_state_dict(checkpoint['model_state_dict'])\n",
        "    optimizer.load_state_dict(checkpoint['optimizer_state_dict'])\n",
        "    start_epoch = checkpoint['epoch']\n",
        "    losses = checkpoint['losses']\n",
        "else:\n",
        "    start_epoch = 0\n",
        "\n",
        "# Training loop with checkpointing\n",
        "num_epochs = 50\n",
        "for epoch in range(start_epoch, start_epoch + (num_epochs - start_epoch)):\n",
        "    train_loss = train_model(model, train_loader, criterion, optimizer, device)\n",
        "    losses.append(train_loss)\n",
        "    print(f\"Epoch [{epoch+1}/{start_epoch + num_epochs}], Train Loss: {train_loss:.4f}\")\n",
        "\n",
        "    checkpoint_path = os.path.join('/content/drive/MyDrive', f'checkpoint_Advance_model_epoch_{epoch+1}.pth')\n",
        "    if not os.path.exists(checkpoint_path):\n",
        "        with open(checkpoint_path, \"w\") as f:\n",
        "            print(f'created{checkpoint_path}')\n",
        "    torch.save({\n",
        "            'epoch': epoch + 1,\n",
        "            'model_state_dict': model.state_dict(),\n",
        "            'optimizer_state_dict': optimizer.state_dict(),\n",
        "            'losses': losses\n",
        "            }, checkpoint_path)"
      ]
    },
    {
      "cell_type": "code",
      "execution_count": 18,
      "metadata": {
        "id": "jSpZ_R-D8tGl",
        "colab": {
          "base_uri": "https://localhost:8080/",
          "height": 449
        },
        "outputId": "20f72fdd-fcc4-4784-9c81-3e36174fa3cc"
      },
      "outputs": [
        {
          "output_type": "display_data",
          "data": {
            "text/plain": [
              "<Figure size 640x480 with 1 Axes>"
            ],
            "image/png": "[encoded data removed]"
          },
          "metadata": {}
        }
      ],
      "source": [
        "plt.plot(range(1, num_epochs + 1), losses, label='Loss')\n",
        "plt.xlabel('Epoch')\n",
        "plt.ylabel('Loss')\n",
        "plt.legend()\n",
        "plt.show()"
      ]
    },
    {
      "cell_type": "code",
      "execution_count": 19,
      "metadata": {
        "id": "xLDH5TApOAh6"
      },
      "outputs": [],
      "source": [
        "transform = transforms.Compose([\n",
        "    transforms.ToTensor(),\n",
        "    transforms.Grayscale(num_output_channels=1),\n",
        "    transforms.Resize((224, 224)),\n",
        "    transforms.Normalize(mean, std)\n",
        "\n",
        "])\n",
        "\n",
        "classifier = TestDataClassifer(model, test_dir, transform)\n",
        "predictions = classifier.load_images_and_predict()\n",
        "classifier.save_predictions_to_csv(predictions)"
      ]
    },
    {
      "cell_type": "code",
      "execution_count": 20,
      "metadata": {
        "id": "Rp3JSUsRhwwz",
        "colab": {
          "base_uri": "https://localhost:8080/"
        },
        "outputId": "99781590-7ec8-4900-bb65-cda707f6d9f6"
      },
      "outputs": [
        {
          "output_type": "stream",
          "name": "stdout",
          "text": [
            "torch.return_types.max(\n",
            "values=tensor([4.7600]),\n",
            "indices=tensor([0]))\n"
          ]
        }
      ],
      "source": [
        "\n",
        "model.eval()\n",
        "image = train_dataset[0][0]\n",
        "with torch.no_grad():\n",
        "    output = model(image.unsqueeze(0).to(device))\n",
        "    print(torch.max(output, 1))"
      ]
    }
  ],
  "metadata": {
    "accelerator": "GPU",
    "colab": {
      "gpuType": "T4",
      "provenance": []
    },
    "kernelspec": {
      "display_name": "Python 3",
      "name": "python3"
    },
    "language_info": {
      "name": "python"
    }
  },
  "nbformat": 4,
  "nbformat_minor": 0
}